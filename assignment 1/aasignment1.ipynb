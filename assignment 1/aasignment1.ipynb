{
 "cells": [
  {
   "cell_type": "code",
   "execution_count": 3,
   "id": "1a3d0124-8538-4735-8664-4439bff217c8",
   "metadata": {},
   "outputs": [
    {
     "name": "stdout",
     "output_type": "stream",
     "text": [
      "Twinkle,twinkle,little star,\n",
      "\tHow I wonder what you are!\n",
      "\t\tUp above the world so high,\n",
      "\t\tLike a diamond in the sky.\n",
      "Twinkle,twinkle,little star,\n",
      "\tHow I wonder what you are.\n"
     ]
    }
   ],
   "source": [
    "print(\"Twinkle,twinkle,little star,\")\n",
    "print(\"\\tHow I wonder what you are!\")\n",
    "print(\"\\t\\tUp above the world so high,\")\n",
    "print(\"\\t\\tLike a diamond in the sky.\")\n",
    "print(\"Twinkle,twinkle,little star,\")\n",
    "print(\"\\tHow I wonder what you are.\")"
   ]
  },
  {
   "cell_type": "code",
   "execution_count": 4,
   "id": "8cc2310b-96cb-4feb-980a-5013c0508fff",
   "metadata": {},
   "outputs": [
    {
     "name": "stdout",
     "output_type": "stream",
     "text": [
      "sys.version_info(major=3, minor=9, micro=7, releaselevel='final', serial=0)\n"
     ]
    }
   ],
   "source": [
    "import sys\n",
    "py_version=sys.version_info\n",
    "print(py_version)"
   ]
  },
  {
   "cell_type": "code",
   "execution_count": 6,
   "id": "42ff7fc4-b163-4f5e-9f2f-aa32132312f8",
   "metadata": {},
   "outputs": [
    {
     "name": "stdout",
     "output_type": "stream",
     "text": [
      "Today's date: 30/12/2021\n",
      "Time is: 16:54:40\n"
     ]
    }
   ],
   "source": [
    "import datetime\n",
    "e=datetime.datetime.now()\n",
    "print(\"Today's date: %s/%s/%s\"%(e.day,e.month,e.year))\n",
    "print(\"Time is: %s:%s:%s\"%(e.hour,e.minute,e.second))"
   ]
  },
  {
   "cell_type": "raw",
   "id": "b41bda4d-3ce0-46cd-826e-ce006a913d6d",
   "metadata": {},
   "source": []
  },
  {
   "cell_type": "code",
   "execution_count": null,
   "id": "8a5ca13b-5f91-40b5-b688-ecc375d8f14c",
   "metadata": {},
   "outputs": [],
   "source": []
  },
  {
   "cell_type": "code",
   "execution_count": 11,
   "id": "246c0ab3-9475-4512-b2da-727dfbdfae7a",
   "metadata": {},
   "outputs": [
    {
     "name": "stdin",
     "output_type": "stream",
     "text": [
      "Enter the radius of circle:  2\n"
     ]
    },
    {
     "name": "stdout",
     "output_type": "stream",
     "text": [
      "area of the circle is  12.588\n"
     ]
    }
   ],
   "source": [
    "\n",
    "radius=float(input(\"Enter the radius of circle: \"))\n",
    "area= 3.147*(radius*radius)\n",
    "print(\"area of the circle is \",area)\n"
   ]
  },
  {
   "cell_type": "code",
   "execution_count": 15,
   "id": "f1e2904a-22fb-4a8d-b579-94780370aa2b",
   "metadata": {},
   "outputs": [
    {
     "name": "stdin",
     "output_type": "stream",
     "text": [
      "Enter the first value: 2\n",
      "Enter the second value: 3\n"
     ]
    },
    {
     "name": "stdout",
     "output_type": "stream",
     "text": [
      "The addition of two values 2 + 3 = 5\n"
     ]
    }
   ],
   "source": [
    "value_1=int(input(\"Enter the first value:\"))\n",
    "value_2=int(input(\"Enter the second value:\"))\n",
    "addition=value_1+value_2\n",
    "print(\"The addition of two values %s + %s = %s\"%(value_1,value_2,addition))"
   ]
  },
  {
   "cell_type": "code",
   "execution_count": 1,
   "id": "5a127865-4992-4fbe-9372-9f6fc93f6d11",
   "metadata": {},
   "outputs": [
    {
     "name": "stdin",
     "output_type": "stream",
     "text": [
      "Enter your full name:\t zimaal latif\n"
     ]
    },
    {
     "name": "stdout",
     "output_type": "stream",
     "text": [
      "original string is %s zimaal latif\n",
      "reversed string is %s fital laamiz\n"
     ]
    }
   ],
   "source": [
    "full_name=input(\"Enter your full name:\\t\")        \n",
    "print(\"original string is %s\",full_name)\n",
    "print(\"reversed string is %s\",full_name[::-1])"
   ]
  },
  {
   "cell_type": "code",
   "execution_count": null,
   "id": "d7cd14cc-c47d-4328-b1f2-41724f9788f3",
   "metadata": {},
   "outputs": [],
   "source": []
  }
 ],
 "metadata": {
  "kernelspec": {
   "display_name": "Python 3 (ipykernel)",
   "language": "python",
   "name": "python3"
  },
  "language_info": {
   "codemirror_mode": {
    "name": "ipython",
    "version": 3
   },
   "file_extension": ".py",
   "mimetype": "text/x-python",
   "name": "python",
   "nbconvert_exporter": "python",
   "pygments_lexer": "ipython3",
   "version": "3.9.7"
  }
 },
 "nbformat": 4,
 "nbformat_minor": 5
}
